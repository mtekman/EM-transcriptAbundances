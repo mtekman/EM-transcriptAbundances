{
 "cells": [
  {
   "cell_type": "markdown",
   "metadata": {},
   "source": [
    "# Methods for E-M"
   ]
  },
  {
   "cell_type": "code",
   "execution_count": 50,
   "metadata": {},
   "outputs": [],
   "source": [
    "def e_step (theta,y):\n",
    "    '''Expectation Step'''\n",
    "    keys = set()\n",
    "    ez = {}\n",
    "    \n",
    "    # Initialise 't1', 't2', 't3' keys\n",
    "    for key, val in theta.items():\n",
    "        keys.add(key)\n",
    "        ez[key] = []\n",
    "    \n",
    "    # For each read\n",
    "    for r in range(len(y['t1'])):\n",
    "        \n",
    "        # Denominator: Sum of all proportions\n",
    "        #  over each transcript\n",
    "        den = 0\n",
    "        for i in keys:\n",
    "            den += theta[i]*y[i][r]\n",
    "        \n",
    "        # Score: proportion of a transcript * reads that can map to it\n",
    "        #  divided by Denominator (sum of all proportions).\n",
    "        for i in keys:\n",
    "            ez[i].append(theta[i]*y[i][r]/den)\n",
    "            \n",
    "    return(ez)"
   ]
  },
  {
   "cell_type": "code",
   "execution_count": 9,
   "metadata": {},
   "outputs": [],
   "source": [
    "def m_step(ez):\n",
    "    '''Maximisation Step'''\n",
    "    keys = set()\n",
    "    ny = {}\n",
    "    \n",
    "    # Initialise 't1', 't2', 't3' keys\n",
    "    for key, val in ez.items():\n",
    "        keys.add(key)\n",
    "    \n",
    "    # New proportions = Average of all read expectations\n",
    "    #  for that transcript\n",
    "    for i in keys:\n",
    "        ny[i]= sum(ez[i])/6\n",
    "    \n",
    "    return(ny)"
   ]
  },
  {
   "cell_type": "code",
   "execution_count": 51,
   "metadata": {},
   "outputs": [],
   "source": [
    "# Pretty printing (ignore!)\n",
    "def pretty(dic):\n",
    "    for i in ['t1','t2','t3']:\n",
    "        print(i, (\n",
    "            '\\t'.join(['%.3f' % x for x in dic[i]])) \n",
    "              if (not(isinstance(dic[i], float))) \n",
    "              else '%.3f' % dic[i], sep='\\t')\n"
   ]
  },
  {
   "cell_type": "code",
   "execution_count": 169,
   "metadata": {
    "scrolled": false
   },
   "outputs": [],
   "source": [
    "from __future__ import division\n",
    "from math import sqrt\n",
    "from matplotlib import pyplot as plt\n",
    "from time import sleep\n",
    "\n",
    "def drawPie(cth):\n",
    "    cth_nr = [cth['t1'],cth['t2'],cth['t3']]\n",
    "    colors = ['red','blue','green']\n",
    "    plt.pie(cth_nr,colors=colors)\n",
    "    plt.axis('equal')\n",
    "    plt.show()\n",
    "\n",
    "\n",
    "def runOneEMstep():\n",
    "    global rounds, cth, y\n",
    "    rounds = rounds + 1\n",
    "    print(\"\\n\\n[ Round\", rounds,\"]\")\n",
    "\n",
    "    # Compute Expectations\n",
    "    expz = e_step(cth,y)\n",
    "    \n",
    "    # Maximise\n",
    "    cth = m_step(expz)\n",
    "\n",
    "    print(\"Expectation of Observed Reads\")\n",
    "    pretty(expz)\n",
    "    print(\"\\nMaximisation of Transcript Abundances\")\n",
    "    pretty(cth)\n",
    "    \n",
    "    drawPie(cth)\n",
    "\n",
    "\n",
    "# If abundances converge, run this\n",
    "# to get the final transcript abundances\n",
    "def giveFinalAbundances():\n",
    "    global cth\n",
    "    print(\"Final \")\n",
    "    for i in ['t1','t2','t3']:\n",
    "        print(i, \"%.3f\" % (cth[i]*6))\n"
   ]
  },
  {
   "cell_type": "markdown",
   "metadata": {},
   "source": [
    "# Performing the E-M\n",
    "\n",
    "Consider the following 6 reads being mapped to 3 transcripts\n",
    "\n",
    " ![Image2](https://drive.google.com/uc?id=1v3qHXWaZrn-41C3kAM3gyrPp010oqUhp)\n",
    " "
   ]
  },
  {
   "cell_type": "code",
   "execution_count": 184,
   "metadata": {},
   "outputs": [
    {
     "name": "stdout",
     "output_type": "stream",
     "text": [
      "Initial Responsibilities\n",
      "t1\t1.000\t0.000\t0.000\t1.000\t1.000\t1.000\n",
      "t2\t0.000\t1.000\t1.000\t0.000\t0.000\t1.000\n",
      "t3\t0.000\t1.000\t1.000\t1.000\t0.000\t1.000\n",
      "\n",
      "Initial Transcript Proportions\n",
      "t1\t0.375\n",
      "t2\t0.250\n",
      "t3\t0.375\n"
     ]
    },
    {
     "data": {
      "image/png": "[encoded data removed]",
      "text/plain": [
       "<Figure size 432x288 with 1 Axes>"
      ]
     },
     "metadata": {},
     "output_type": "display_data"
    }
   ],
   "source": [
    "# - Overlap matrix\n",
    "y = {\n",
    "    't1':[1,0,0,1,1,1],\n",
    "    't2':[0,1,1,0,0,1],\n",
    "    't3':[0,1,1,1,0,1]\n",
    "}\n",
    "\n",
    "# - Randomly seeded transcript abundances → sum to 1\n",
    "cth = {\n",
    "    't1':3/8,\n",
    "    't2':2/8,\n",
    "    't3':3/8\n",
    "}\n",
    "\n",
    "rounds = 0 # reset\n",
    "\n",
    "print(\"Initial Responsibilities\")\n",
    "pretty(y)\n",
    "print(\"\\nInitial Transcript Proportions\")\n",
    "pretty(cth)\n",
    "\n",
    "drawPie(cth)"
   ]
  },
  {
   "cell_type": "code",
   "execution_count": 185,
   "metadata": {},
   "outputs": [
    {
     "name": "stdout",
     "output_type": "stream",
     "text": [
      "\n",
      "\n",
      "[ Round 1 ]\n",
      "Expectation of Observed Reads\n",
      "t1\t1.000\t0.000\t0.000\t0.500\t1.000\t0.375\n",
      "t2\t0.000\t0.400\t0.400\t0.000\t0.000\t0.250\n",
      "t3\t0.000\t0.600\t0.600\t0.500\t0.000\t0.375\n",
      "\n",
      "Maximisation of Transcript Abundances\n",
      "t1\t0.479\n",
      "t2\t0.175\n",
      "t3\t0.346\n"
     ]
    },
    {
     "data": {
      "image/png": "[encoded data removed]",
      "text/plain": [
       "<Figure size 432x288 with 1 Axes>"
      ]
     },
     "metadata": {},
     "output_type": "display_data"
    }
   ],
   "source": [
    "runOneEMstep()"
   ]
  },
  {
   "cell_type": "code",
   "execution_count": 186,
   "metadata": {},
   "outputs": [
    {
     "name": "stdout",
     "output_type": "stream",
     "text": [
      "\n",
      "\n",
      "[ Round 2 ]\n",
      "Expectation of Observed Reads\n",
      "t1\t1.000\t0.000\t0.000\t0.581\t1.000\t0.479\n",
      "t2\t0.000\t0.336\t0.336\t0.000\t0.000\t0.175\n",
      "t3\t0.000\t0.664\t0.664\t0.419\t0.000\t0.346\n",
      "\n",
      "Maximisation of Transcript Abundances\n",
      "t1\t0.510\n",
      "t2\t0.141\n",
      "t3\t0.349\n"
     ]
    },
    {
     "data": {
      "image/png": "[encoded data removed]",
      "text/plain": [
       "<Figure size 432x288 with 1 Axes>"
      ]
     },
     "metadata": {},
     "output_type": "display_data"
    }
   ],
   "source": [
    "runOneEMstep()"
   ]
  },
  {
   "cell_type": "code",
   "execution_count": 187,
   "metadata": {},
   "outputs": [
    {
     "name": "stdout",
     "output_type": "stream",
     "text": [
      "\n",
      "\n",
      "[ Round 3 ]\n",
      "Expectation of Observed Reads\n",
      "t1\t1.000\t0.000\t0.000\t0.594\t1.000\t0.510\n",
      "t2\t0.000\t0.288\t0.288\t0.000\t0.000\t0.141\n",
      "t3\t0.000\t0.712\t0.712\t0.406\t0.000\t0.349\n",
      "\n",
      "Maximisation of Transcript Abundances\n",
      "t1\t0.517\n",
      "t2\t0.120\n",
      "t3\t0.363\n"
     ]
    },
    {
     "data": {
      "image/png": "[encoded data removed]",
      "text/plain": [
       "<Figure size 432x288 with 1 Axes>"
      ]
     },
     "metadata": {},
     "output_type": "display_data"
    }
   ],
   "source": [
    "runOneEMstep()"
   ]
  },
  {
   "cell_type": "code",
   "execution_count": 188,
   "metadata": {},
   "outputs": [
    {
     "name": "stdout",
     "output_type": "stream",
     "text": [
      "\n",
      "\n",
      "[ Round 4 ]\n",
      "Expectation of Observed Reads\n",
      "t1\t1.000\t0.000\t0.000\t0.588\t1.000\t0.517\n",
      "t2\t0.000\t0.248\t0.248\t0.000\t0.000\t0.120\n",
      "t3\t0.000\t0.752\t0.752\t0.412\t0.000\t0.363\n",
      "\n",
      "Maximisation of Transcript Abundances\n",
      "t1\t0.517\n",
      "t2\t0.102\n",
      "t3\t0.380\n"
     ]
    },
    {
     "data": {
      "image/png": "[encoded data removed]",
      "text/plain": [
       "<Figure size 432x288 with 1 Axes>"
      ]
     },
     "metadata": {},
     "output_type": "display_data"
    }
   ],
   "source": [
    "runOneEMstep()"
   ]
  },
  {
   "cell_type": "code",
   "execution_count": 189,
   "metadata": {},
   "outputs": [
    {
     "name": "stdout",
     "output_type": "stream",
     "text": [
      "\n",
      "\n",
      "[ Round 5 ]\n",
      "Expectation of Observed Reads\n",
      "t1\t1.000\t0.000\t0.000\t0.577\t1.000\t0.517\n",
      "t2\t0.000\t0.212\t0.212\t0.000\t0.000\t0.102\n",
      "t3\t0.000\t0.788\t0.788\t0.423\t0.000\t0.380\n",
      "\n",
      "Maximisation of Transcript Abundances\n",
      "t1\t0.516\n",
      "t2\t0.088\n",
      "t3\t0.396\n"
     ]
    },
    {
     "data": {
      "image/png": "[encoded data removed]",
      "text/plain": [
       "<Figure size 432x288 with 1 Axes>"
      ]
     },
     "metadata": {},
     "output_type": "display_data"
    }
   ],
   "source": [
    "runOneEMstep()"
   ]
  },
  {
   "cell_type": "code",
   "execution_count": 190,
   "metadata": {},
   "outputs": [
    {
     "name": "stdout",
     "output_type": "stream",
     "text": [
      "\n",
      "\n",
      "[ Round 6 ]\n",
      "Expectation of Observed Reads\n",
      "t1\t1.000\t0.000\t0.000\t0.565\t1.000\t0.516\n",
      "t2\t0.000\t0.181\t0.181\t0.000\t0.000\t0.088\n",
      "t3\t0.000\t0.819\t0.819\t0.435\t0.000\t0.396\n",
      "\n",
      "Maximisation of Transcript Abundances\n",
      "t1\t0.514\n",
      "t2\t0.075\n",
      "t3\t0.411\n"
     ]
    },
    {
     "data": {
      "image/png": "[encoded data removed]",
      "text/plain": [
       "<Figure size 432x288 with 1 Axes>"
      ]
     },
     "metadata": {},
     "output_type": "display_data"
    }
   ],
   "source": [
    "runOneEMstep()"
   ]
  },
  {
   "cell_type": "code",
   "execution_count": 191,
   "metadata": {},
   "outputs": [
    {
     "name": "stdout",
     "output_type": "stream",
     "text": [
      "\n",
      "\n",
      "[ Round 7 ]\n",
      "Expectation of Observed Reads\n",
      "t1\t1.000\t0.000\t0.000\t0.555\t1.000\t0.514\n",
      "t2\t0.000\t0.154\t0.154\t0.000\t0.000\t0.075\n",
      "t3\t0.000\t0.846\t0.846\t0.445\t0.000\t0.411\n",
      "\n",
      "Maximisation of Transcript Abundances\n",
      "t1\t0.511\n",
      "t2\t0.064\n",
      "t3\t0.425\n"
     ]
    },
    {
     "data": {
      "image/png": "[encoded data removed]",
      "text/plain": [
       "<Figure size 432x288 with 1 Axes>"
      ]
     },
     "metadata": {},
     "output_type": "display_data"
    }
   ],
   "source": [
    "runOneEMstep()"
   ]
  },
  {
   "cell_type": "code",
   "execution_count": 192,
   "metadata": {},
   "outputs": [
    {
     "name": "stdout",
     "output_type": "stream",
     "text": [
      "\n",
      "\n",
      "[ Round 8 ]\n",
      "Expectation of Observed Reads\n",
      "t1\t1.000\t0.000\t0.000\t0.546\t1.000\t0.511\n",
      "t2\t0.000\t0.131\t0.131\t0.000\t0.000\t0.064\n",
      "t3\t0.000\t0.869\t0.869\t0.454\t0.000\t0.425\n",
      "\n",
      "Maximisation of Transcript Abundances\n",
      "t1\t0.510\n",
      "t2\t0.054\n",
      "t3\t0.436\n"
     ]
    },
    {
     "data": {
      "image/png": "[encoded data removed]",
      "text/plain": [
       "<Figure size 432x288 with 1 Axes>"
      ]
     },
     "metadata": {},
     "output_type": "display_data"
    }
   ],
   "source": [
    "runOneEMstep()"
   ]
  },
  {
   "cell_type": "code",
   "execution_count": 193,
   "metadata": {},
   "outputs": [
    {
     "name": "stdout",
     "output_type": "stream",
     "text": [
      "\n",
      "\n",
      "[ Round 9 ]\n",
      "Expectation of Observed Reads\n",
      "t1\t1.000\t0.000\t0.000\t0.539\t1.000\t0.510\n",
      "t2\t0.000\t0.111\t0.111\t0.000\t0.000\t0.054\n",
      "t3\t0.000\t0.889\t0.889\t0.461\t0.000\t0.436\n",
      "\n",
      "Maximisation of Transcript Abundances\n",
      "t1\t0.508\n",
      "t2\t0.046\n",
      "t3\t0.446\n"
     ]
    },
    {
     "data": {
      "image/png": "[encoded data removed]",
      "text/plain": [
       "<Figure size 432x288 with 1 Axes>"
      ]
     },
     "metadata": {},
     "output_type": "display_data"
    }
   ],
   "source": [
    "runOneEMstep()"
   ]
  },
  {
   "cell_type": "code",
   "execution_count": 194,
   "metadata": {},
   "outputs": [
    {
     "name": "stdout",
     "output_type": "stream",
     "text": [
      "\n",
      "\n",
      "[ Round 10 ]\n",
      "Expectation of Observed Reads\n",
      "t1\t1.000\t0.000\t0.000\t0.533\t1.000\t0.508\n",
      "t2\t0.000\t0.093\t0.093\t0.000\t0.000\t0.046\n",
      "t3\t0.000\t0.907\t0.907\t0.467\t0.000\t0.446\n",
      "\n",
      "Maximisation of Transcript Abundances\n",
      "t1\t0.507\n",
      "t2\t0.039\n",
      "t3\t0.454\n"
     ]
    },
    {
     "data": {
      "image/png": "[encoded data removed]",
      "text/plain": [
       "<Figure size 432x288 with 1 Axes>"
      ]
     },
     "metadata": {},
     "output_type": "display_data"
    }
   ],
   "source": [
    "runOneEMstep()"
   ]
  },
  {
   "cell_type": "code",
   "execution_count": 195,
   "metadata": {},
   "outputs": [
    {
     "name": "stdout",
     "output_type": "stream",
     "text": [
      "\n",
      "\n",
      "[ Round 11 ]\n",
      "Expectation of Observed Reads\n",
      "t1\t1.000\t0.000\t0.000\t0.527\t1.000\t0.507\n",
      "t2\t0.000\t0.079\t0.079\t0.000\t0.000\t0.039\n",
      "t3\t0.000\t0.921\t0.921\t0.473\t0.000\t0.454\n",
      "\n",
      "Maximisation of Transcript Abundances\n",
      "t1\t0.506\n",
      "t2\t0.033\n",
      "t3\t0.462\n"
     ]
    },
    {
     "data": {
      "image/png": "[encoded data removed]",
      "text/plain": [
       "<Figure size 432x288 with 1 Axes>"
      ]
     },
     "metadata": {},
     "output_type": "display_data"
    }
   ],
   "source": [
    "runOneEMstep()"
   ]
  },
  {
   "cell_type": "code",
   "execution_count": 196,
   "metadata": {},
   "outputs": [
    {
     "name": "stdout",
     "output_type": "stream",
     "text": [
      "\n",
      "\n",
      "[ Round 12 ]\n",
      "Expectation of Observed Reads\n",
      "t1\t1.000\t0.000\t0.000\t0.523\t1.000\t0.506\n",
      "t2\t0.000\t0.066\t0.066\t0.000\t0.000\t0.033\n",
      "t3\t0.000\t0.934\t0.934\t0.477\t0.000\t0.462\n",
      "\n",
      "Maximisation of Transcript Abundances\n",
      "t1\t0.505\n",
      "t2\t0.028\n",
      "t3\t0.468\n"
     ]
    },
    {
     "data": {
      "image/png": "[encoded data removed]",
      "text/plain": [
       "<Figure size 432x288 with 1 Axes>"
      ]
     },
     "metadata": {},
     "output_type": "display_data"
    }
   ],
   "source": [
    "runOneEMstep()"
   ]
  },
  {
   "cell_type": "code",
   "execution_count": 197,
   "metadata": {},
   "outputs": [
    {
     "name": "stdout",
     "output_type": "stream",
     "text": [
      "\n",
      "\n",
      "[ Round 13 ]\n",
      "Expectation of Observed Reads\n",
      "t1\t1.000\t0.000\t0.000\t0.519\t1.000\t0.505\n",
      "t2\t0.000\t0.056\t0.056\t0.000\t0.000\t0.028\n",
      "t3\t0.000\t0.944\t0.944\t0.481\t0.000\t0.468\n",
      "\n",
      "Maximisation of Transcript Abundances\n",
      "t1\t0.504\n",
      "t2\t0.023\n",
      "t3\t0.473\n"
     ]
    },
    {
     "data": {
      "image/png": "[encoded data removed]",
      "text/plain": [
       "<Figure size 432x288 with 1 Axes>"
      ]
     },
     "metadata": {},
     "output_type": "display_data"
    }
   ],
   "source": [
    "runOneEMstep()"
   ]
  },
  {
   "cell_type": "code",
   "execution_count": 198,
   "metadata": {},
   "outputs": [
    {
     "name": "stdout",
     "output_type": "stream",
     "text": [
      "\n",
      "\n",
      "[ Round 14 ]\n",
      "Expectation of Observed Reads\n",
      "t1\t1.000\t0.000\t0.000\t0.516\t1.000\t0.504\n",
      "t2\t0.000\t0.047\t0.047\t0.000\t0.000\t0.023\n",
      "t3\t0.000\t0.953\t0.953\t0.484\t0.000\t0.473\n",
      "\n",
      "Maximisation of Transcript Abundances\n",
      "t1\t0.503\n",
      "t2\t0.019\n",
      "t3\t0.477\n"
     ]
    },
    {
     "data": {
      "image/png": "[encoded data removed]",
      "text/plain": [
       "<Figure size 432x288 with 1 Axes>"
      ]
     },
     "metadata": {},
     "output_type": "display_data"
    }
   ],
   "source": [
    "runOneEMstep()"
   ]
  },
  {
   "cell_type": "code",
   "execution_count": 199,
   "metadata": {},
   "outputs": [
    {
     "name": "stdout",
     "output_type": "stream",
     "text": [
      "\n",
      "\n",
      "[ Round 15 ]\n",
      "Expectation of Observed Reads\n",
      "t1\t1.000\t0.000\t0.000\t0.513\t1.000\t0.503\n",
      "t2\t0.000\t0.039\t0.039\t0.000\t0.000\t0.019\n",
      "t3\t0.000\t0.961\t0.961\t0.487\t0.000\t0.477\n",
      "\n",
      "Maximisation of Transcript Abundances\n",
      "t1\t0.503\n",
      "t2\t0.016\n",
      "t3\t0.481\n"
     ]
    },
    {
     "data": {
      "image/png": "[encoded data removed]",
      "text/plain": [
       "<Figure size 432x288 with 1 Axes>"
      ]
     },
     "metadata": {},
     "output_type": "display_data"
    }
   ],
   "source": [
    "runOneEMstep()"
   ]
  },
  {
   "cell_type": "code",
   "execution_count": 200,
   "metadata": {},
   "outputs": [
    {
     "name": "stdout",
     "output_type": "stream",
     "text": [
      "\n",
      "\n",
      "[ Round 16 ]\n",
      "Expectation of Observed Reads\n",
      "t1\t1.000\t0.000\t0.000\t0.511\t1.000\t0.503\n",
      "t2\t0.000\t0.033\t0.033\t0.000\t0.000\t0.016\n",
      "t3\t0.000\t0.967\t0.967\t0.489\t0.000\t0.481\n",
      "\n",
      "Maximisation of Transcript Abundances\n",
      "t1\t0.502\n",
      "t2\t0.014\n",
      "t3\t0.484\n"
     ]
    },
    {
     "data": {
      "image/png": "[encoded data removed]",
      "text/plain": [
       "<Figure size 432x288 with 1 Axes>"
      ]
     },
     "metadata": {},
     "output_type": "display_data"
    }
   ],
   "source": [
    "runOneEMstep()"
   ]
  },
  {
   "cell_type": "code",
   "execution_count": 201,
   "metadata": {},
   "outputs": [
    {
     "name": "stdout",
     "output_type": "stream",
     "text": [
      "\n",
      "\n",
      "[ Round 17 ]\n",
      "Expectation of Observed Reads\n",
      "t1\t1.000\t0.000\t0.000\t0.509\t1.000\t0.502\n",
      "t2\t0.000\t0.027\t0.027\t0.000\t0.000\t0.014\n",
      "t3\t0.000\t0.973\t0.973\t0.491\t0.000\t0.484\n",
      "\n",
      "Maximisation of Transcript Abundances\n",
      "t1\t0.502\n",
      "t2\t0.011\n",
      "t3\t0.487\n"
     ]
    },
    {
     "data": {
      "image/png": "[encoded data removed]",
      "text/plain": [
       "<Figure size 432x288 with 1 Axes>"
      ]
     },
     "metadata": {},
     "output_type": "display_data"
    }
   ],
   "source": [
    "runOneEMstep()"
   ]
  },
  {
   "cell_type": "code",
   "execution_count": 202,
   "metadata": {},
   "outputs": [
    {
     "name": "stdout",
     "output_type": "stream",
     "text": [
      "\n",
      "\n",
      "[ Round 18 ]\n",
      "Expectation of Observed Reads\n",
      "t1\t1.000\t0.000\t0.000\t0.508\t1.000\t0.502\n",
      "t2\t0.000\t0.023\t0.023\t0.000\t0.000\t0.011\n",
      "t3\t0.000\t0.977\t0.977\t0.492\t0.000\t0.487\n",
      "\n",
      "Maximisation of Transcript Abundances\n",
      "t1\t0.502\n",
      "t2\t0.009\n",
      "t3\t0.489\n"
     ]
    },
    {
     "data": {
      "image/png": "[encoded data removed]",
      "text/plain": [
       "<Figure size 432x288 with 1 Axes>"
      ]
     },
     "metadata": {},
     "output_type": "display_data"
    }
   ],
   "source": [
    "runOneEMstep()"
   ]
  },
  {
   "cell_type": "code",
   "execution_count": 204,
   "metadata": {},
   "outputs": [
    {
     "name": "stdout",
     "output_type": "stream",
     "text": [
      "Final \n",
      "t1 3.010\n",
      "t2 0.057\n",
      "t3 2.933\n"
     ]
    }
   ],
   "source": [
    "# Converged, give final abundances\n",
    "giveFinalAbundances()"
   ]
  }
 ],
 "metadata": {
  "kernelspec": {
   "display_name": "Python 3",
   "language": "python",
   "name": "python3"
  },
  "language_info": {
   "codemirror_mode": {
    "name": "ipython",
    "version": 3
   },
   "file_extension": ".py",
   "mimetype": "text/x-python",
   "name": "python",
   "nbconvert_exporter": "python",
   "pygments_lexer": "ipython3",
   "version": "3.7.0"
  },
  "toc": {
   "base_numbering": 1,
   "nav_menu": {},
   "number_sections": true,
   "sideBar": true,
   "skip_h1_title": false,
   "title_cell": "Table of Contents",
   "title_sidebar": "Contents",
   "toc_cell": false,
   "toc_position": {},
   "toc_section_display": true,
   "toc_window_display": false
  }
 },
 "nbformat": 4,
 "nbformat_minor": 2
}
